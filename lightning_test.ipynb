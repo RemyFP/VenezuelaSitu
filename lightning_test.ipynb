#import numpy as np
#import pandas as pd
#import matplotlib.pyplot as plt

print('test')
#x = np.random.uniform(0,1,size = 10)
#y = np.random.uniform(0,1,size = 10)
#print(x)
#plt.scatter(x,y)
#plt.show()


